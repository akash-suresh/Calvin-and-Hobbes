{
 "cells": [
  {
   "cell_type": "code",
   "execution_count": 147,
   "metadata": {},
   "outputs": [],
   "source": [
    "from fpdf import FPDF\n",
    "import os\n",
    "from os import listdir\n",
    "from os.path import isfile, join \n",
    "from PIL import Image\n"
   ]
  },
  {
   "cell_type": "code",
   "execution_count": 148,
   "metadata": {},
   "outputs": [
    {
     "name": "stdout",
     "output_type": "stream",
     "text": [
      "P3.png\n",
      "P2.png\n",
      "P1.png\n"
     ]
    }
   ],
   "source": [
    "width = 260\n",
    "list_of_images=[]\n",
    "book_cover_list=[]\n",
    "import os.path\n",
    "\n",
    "for dirpath, dirnames, filenames in os.walk(\".\"):\n",
    "    for filename in [f for f in filenames if f.endswith(\".gif\")]:\n",
    "        list_of_images.append(os.path.join(dirpath, filename))\n",
    "\n",
    "for dirpath, dirnames, filenames in os.walk(\".\"):\n",
    "    for filename in [f for f in filenames if f.endswith(\".png\")]:\n",
    "        print filename\n",
    "        book_cover = (os.path.join(dirpath, filename))\n",
    "        book_cover_list.append(book_cover)\n",
    "\n"
   ]
  },
  {
   "cell_type": "code",
   "execution_count": 149,
   "metadata": {},
   "outputs": [],
   "source": [
    "list_of_images.sort()"
   ]
  },
  {
   "cell_type": "code",
   "execution_count": 150,
   "metadata": {},
   "outputs": [
    {
     "data": {
      "text/plain": [
       "3696"
      ]
     },
     "execution_count": 150,
     "metadata": {},
     "output_type": "execute_result"
    }
   ],
   "source": [
    "len(list_of_images)"
   ]
  },
  {
   "cell_type": "code",
   "execution_count": 151,
   "metadata": {},
   "outputs": [],
   "source": [
    "book_cover_list.sort()"
   ]
  },
  {
   "cell_type": "code",
   "execution_count": 152,
   "metadata": {},
   "outputs": [
    {
     "data": {
      "text/plain": [
       "['./P1.png', './P2.png', './P3.png']"
      ]
     },
     "execution_count": 152,
     "metadata": {},
     "output_type": "execute_result"
    }
   ],
   "source": [
    "book_cover_list"
   ]
  },
  {
   "cell_type": "code",
   "execution_count": 153,
   "metadata": {},
   "outputs": [],
   "source": [
    "def split(image):\n",
    "    fname = (image.split('/')[4]).split('.')[0]\n",
    "    year = fname[:4]\n",
    "    month = fname[4:6] \n",
    "    day = fname[6:]\n",
    "    date = day+'-'+month+'-'+year\n",
    "    return date, day, int(month), year\n",
    "\n",
    "def addMonth(pdf, month, year) :\n",
    "    pdf.set_font(\"Courier\", size=22)\n",
    "    pdf.cell(0, 183, txt=month+', '+year, ln=1, align=\"C\")\n",
    "    \n",
    "def addDate(pdf, date) :\n",
    "    pdf.set_font(\"courier\",size=5)\n",
    "    pdf.cell(0, 3, txt=date, ln=1, align=\"R\")\n",
    "    \n",
    "def createPDF(list_of_images, title, book_cover):\n",
    "    calendar = ['0','January', 'February', 'March', 'April', 'May', 'June', 'July', 'August', 'September', 'October', 'November', 'December']\n",
    "    pdf = FPDF(orientation='L')\n",
    "    pdf.set_top_margin(5)\n",
    "#     pdf.set_top_margin(10)\n",
    "    pdf.add_page()\n",
    "    pdf.image(book_cover, x = None, y = None, w = width-10, h = 0, type = 'png', link = '')\n",
    "    pdf.add_page()\n",
    "    date, day, old_month, year = split(list_of_images[0])\n",
    "\n",
    "    addMonth(pdf, calendar[old_month], year)\n",
    "\n",
    "    for image in list_of_images:\n",
    "        date, day, month, year = split(image)\n",
    "        if month!=old_month:\n",
    "            print date\n",
    "            pdf.add_page()\n",
    "            addMonth(pdf, calendar[month], year)\n",
    "#             pdf.add_page()\n",
    "        addDate(pdf, date)\n",
    "        pdf.image(image, x = None, y = None, w = width, h = 0, type = 'gif', link = '')\n",
    "        old_month= month\n",
    "    pdf.output(title+\".pdf\", \"F\")\n"
   ]
  },
  {
   "cell_type": "code",
   "execution_count": 154,
   "metadata": {},
   "outputs": [
    {
     "name": "stdout",
     "output_type": "stream",
     "text": [
      "CH - 1\n",
      "01-12-1985\n",
      "01-01-1986\n",
      "01-02-1986\n",
      "01-03-1986\n",
      "01-04-1986\n",
      "01-05-1986\n",
      "01-06-1986\n",
      "01-07-1986\n",
      "01-08-1986\n",
      "01-09-1986\n",
      "01-10-1986\n",
      "01-11-1986\n",
      "01-12-1986\n",
      "01-01-1987\n",
      "01-02-1987\n",
      "01-03-1987\n",
      "01-04-1987\n",
      "01-05-1987\n",
      "01-06-1987\n",
      "01-07-1987\n",
      "01-08-1987\n",
      "01-09-1987\n",
      "01-10-1987\n",
      "01-11-1987\n",
      "01-12-1987\n",
      "01-01-1988\n",
      "01-02-1988\n",
      "01-03-1988\n",
      "01-04-1988\n",
      "01-05-1988\n",
      "01-06-1988\n",
      "01-07-1988\n",
      "01-08-1988\n",
      "01-09-1988\n",
      "01-10-1988\n",
      "01-11-1988\n",
      "01-12-1988\n",
      "01-01-1989\n",
      "01-02-1989\n",
      "01-03-1989\n",
      "01-04-1989\n",
      "CH - 2\n",
      "01-05-1989\n",
      "01-06-1989\n",
      "01-07-1989\n",
      "01-08-1989\n",
      "01-09-1989\n",
      "01-10-1989\n",
      "01-11-1989\n",
      "01-12-1989\n",
      "01-01-1990\n",
      "01-02-1990\n",
      "01-03-1990\n",
      "01-04-1990\n",
      "01-05-1990\n",
      "01-06-1990\n",
      "01-07-1990\n",
      "01-08-1990\n",
      "01-09-1990\n",
      "01-10-1990\n",
      "01-11-1990\n",
      "01-12-1990\n",
      "01-01-1991\n",
      "01-02-1991\n",
      "01-03-1991\n",
      "01-04-1991\n",
      "01-05-1991\n",
      "01-06-1991\n",
      "01-07-1991\n",
      "01-08-1991\n",
      "01-09-1991\n",
      "01-10-1991\n",
      "01-11-1991\n",
      "01-12-1991\n",
      "01-01-1992\n",
      "01-02-1992\n",
      "01-03-1992\n",
      "01-04-1992\n",
      "01-05-1992\n",
      "01-06-1992\n",
      "01-07-1992\n",
      "01-08-1992\n",
      "CH - 3\n",
      "01-09-1992\n",
      "01-10-1992\n",
      "01-11-1992\n",
      "01-12-1992\n",
      "01-01-1993\n",
      "01-02-1993\n",
      "01-03-1993\n",
      "01-04-1993\n",
      "01-05-1993\n",
      "01-06-1993\n",
      "01-07-1993\n",
      "01-08-1993\n",
      "01-09-1993\n",
      "01-10-1993\n",
      "01-11-1993\n",
      "01-12-1993\n",
      "01-01-1994\n",
      "01-02-1994\n",
      "01-03-1994\n",
      "01-04-1994\n",
      "01-05-1994\n",
      "01-06-1994\n",
      "01-07-1994\n",
      "01-08-1994\n",
      "01-09-1994\n",
      "01-10-1994\n",
      "01-11-1994\n",
      "01-12-1994\n",
      "01-01-1995\n",
      "01-02-1995\n",
      "01-03-1995\n",
      "01-04-1995\n",
      "01-05-1995\n",
      "01-06-1995\n",
      "01-07-1995\n",
      "01-08-1995\n",
      "01-09-1995\n",
      "01-10-1995\n",
      "01-11-1995\n",
      "01-12-1995\n"
     ]
    }
   ],
   "source": [
    "for i in range(3):\n",
    "    start = 1232*i\n",
    "    end = 1232*(i+1)\n",
    "    title = \"CH - \" + str(i+1)\n",
    "    print title\n",
    "    createPDF(list_of_images[start:end], title, book_cover_list[i])\n",
    "\n",
    "# createPDF(list_of_images[:1200], \"CH - 1\")"
   ]
  },
  {
   "cell_type": "code",
   "execution_count": null,
   "metadata": {},
   "outputs": [],
   "source": []
  },
  {
   "cell_type": "code",
   "execution_count": null,
   "metadata": {},
   "outputs": [],
   "source": []
  },
  {
   "cell_type": "code",
   "execution_count": null,
   "metadata": {},
   "outputs": [],
   "source": []
  }
 ],
 "metadata": {
  "kernelspec": {
   "display_name": "Python 2",
   "language": "python",
   "name": "python2"
  },
  "language_info": {
   "codemirror_mode": {
    "name": "ipython",
    "version": 2
   },
   "file_extension": ".py",
   "mimetype": "text/x-python",
   "name": "python",
   "nbconvert_exporter": "python",
   "pygments_lexer": "ipython2",
   "version": "2.7.13"
  }
 },
 "nbformat": 4,
 "nbformat_minor": 2
}
